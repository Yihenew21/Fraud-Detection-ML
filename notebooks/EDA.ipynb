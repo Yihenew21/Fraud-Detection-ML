{
 "cells": [
  {
   "cell_type": "markdown",
   "id": "40dfca90",
   "metadata": {},
   "source": [
    "# Task 1: Data Analysis and Preprocessing\n",
    "\n",
    "This notebook performs data cleaning, exploratory data analysis (EDA), feature engineering, and class imbalance analysis for the 10 Academy Week 8&9 Fraud Detection Challenge.\n",
    "\n",
    "## Objectives\n",
    "- Clean datasets (`Fraud_Data.csv`, `creditcard.csv`, `IpAddress_to_Country.csv`).\n",
    "- Perform EDA to identify fraud patterns.\n",
    "- Engineer features (e.g., `time_since_signup`, `trans_freq`).\n",
    "- Analyze class imbalance and propose a strategy (SMOTE).\n",
    "\n",
    "## Datasets\n",
    "- `Fraud_Data.csv`: E-commerce transactions with `user_id`, `signup_time`, `purchase_time`, etc.\n",
    "- `IpAddress_to_Country.csv`: Maps IP addresses to countries.\n",
    "- `creditcard.csv`: Bank transactions with `Time`, `V1`-`V28`, `Amount`, `Class`."
   ]
  },
  {
   "cell_type": "code",
   "execution_count": null,
   "id": "756fb749",
   "metadata": {},
   "outputs": [],
   "source": [
    "import pandas as pd\n",
    "import numpy as np\n",
    "import matplotlib.pyplot as plt\n",
    "import seaborn as sns\n",
    "from src.data_utils import load_data, clean_data, merge_ip_to_country\n",
    "\n",
    "%matplotlib inline\n",
    "plt.style.use('seaborn')\n",
    "\n",
    "# Load datasets\n",
    "ecommerce_df = load_data('data/raw/Fraud_Data.csv')\n",
    "ip_country_df = load_data('data/raw/IpAddress_to_Country.csv')\n",
    "creditcard_df = load_data('data/raw/creditcard.csv')"
   ]
  },
  {
   "cell_type": "markdown",
   "id": "15012cd1",
   "metadata": {},
   "source": [
    "## Data Cleaning\n",
    "\n",
    "- Remove duplicates to ensure data integrity.\n",
    "- Convert `signup_time` and `purchase_time` to datetime.\n",
    "- Impute missing values (e.g., median for numerical, mode for categorical).\n",
    "- Merge e-commerce data with IP-to-country mapping."
   ]
  },
  {
   "cell_type": "code",
   "execution_count": null,
   "id": "5ef5cb2d",
   "metadata": {},
   "outputs": [],
   "source": [
    "# Clean e-commerce data\n",
    "ecommerce_df = clean_data(\n",
    "    ecommerce_df,\n",
    "    datetime_cols=['signup_time', 'purchase_time'],\n",
    "    fillna_cols={'purchase_value': 'median', 'source': 'mode', 'browser': 'mode', 'sex': 'mode'}\n",
    ")\n",
    "\n",
    "# Clean credit card data\n",
    "creditcard_df = clean_data(\n",
    "    creditcard_df,\n",
    "    fillna_cols={'Amount': 'median'}\n",
    ")\n",
    "\n",
    "# Merge IP-to-country\n",
    "ecommerce_df = merge_ip_to_country(ecommerce_df, ip_country_df)\n",
    "\n",
    "# Save processed data\n",
    "ecommerce_df.to_csv('data/processed/processed_ecommerce.csv', index=False)\n",
    "creditcard_df.to_csv('data/processed/processed_creditcard.csv', index=False)"
   ]
  },
  {
   "cell_type": "markdown",
   "id": "b06f6957",
   "metadata": {},
   "source": [
    "## Exploratory Data Analysis (EDA)\n",
    "\n",
    "- **Univariate Analysis**: Histograms of `purchase_value` and `Amount` to check distributions.\n",
    "- **Bivariate Analysis**: Compare fraud vs. non-fraud cases across features.\n",
    "- **Time Series**: Plot transaction counts by hour to identify fraud patterns."
   ]
  },
  {
   "cell_type": "code",
   "execution_count": null,
   "id": "616db6e0",
   "metadata": {},
   "outputs": [],
   "source": [
    "# Histogram of purchase_value\n",
    "plt.figure(figsize=(10, 6))\n",
    "sns.histplot(data=ecommerce_df, x='purchase_value', hue='class', bins=50)\n",
    "plt.title('Purchase Value Distribution by Fraud Status')\n",
    "plt.annotate('High values may indicate fraud', xy=(0.9, 0.9), xycoords='axes fraction')\n",
    "plt.savefig('plots/purchase_value_hist.png')\n",
    "plt.show()\n",
    "\n",
    "# Time series of fraud vs. non-fraud\n",
    "ecommerce_df['purchase_hour'] = ecommerce_df['purchase_time'].dt.floor('H')\n",
    "fraud_counts = ecommerce_df[ecommerce_df['class'] == 1].groupby('purchase_hour').size()\n",
    "non_fraud_counts = ecommerce_df[ecommerce_df['class'] == 0].groupby('purchase_hour').size()\n",
    "plt.figure(figsize=(12, 6))\n",
    "plt.plot(fraud_counts.index, fraud_counts, label='Fraud', color='red')\n",
    "plt.plot(non_fraud_counts.index, non_fraud_counts, label='Non-Fraud', color='blue')\n",
    "plt.title('Transaction Counts by Hour')\n",
    "plt.legend()\n",
    "plt.savefig('plots/time_series.png')\n",
    "plt.show()"
   ]
  },
  {
   "cell_type": "markdown",
   "id": "f89eb126",
   "metadata": {},
   "source": [
    "## Feature Engineering\n",
    "\n",
    "- **time_since_signup**: Duration between signup and purchase (hypothesis: fraudsters act quickly).\n",
    "- **hour_of_day** and **day_of_week**: Capture temporal patterns.\n",
    "- **trans_freq**: Number of transactions per user (hypothesis: high frequency may indicate fraud)."
   ]
  },
  {
   "cell_type": "code",
   "execution_count": null,
   "id": "ae6953a7",
   "metadata": {},
   "outputs": [],
   "source": [
    "from src.feature_engineering import add_time_features, add_transaction_frequency\n",
    "\n",
    "# Add time-based features\n",
    "ecommerce_df = add_time_features(ecommerce_df)\n",
    "\n",
    "# Add transaction frequency\n",
    "ecommerce_df = add_transaction_frequency(ecommerce_df, 'user_id')\n",
    "\n",
    "# Save updated data\n",
    "ecommerce_df.to_csv('data/processed/processed_ecommerce_with_features.csv', index=False)"
   ]
  },
  {
   "cell_type": "markdown",
   "id": "d3aaf970",
   "metadata": {},
   "source": [
    "## Class Imbalance Analysis\n",
    "\n",
    "- Analyze class distribution for both datasets.\n",
    "- Propose SMOTE for training data to balance classes, as fraud is rare but critical."
   ]
  },
  {
   "cell_type": "code",
   "execution_count": null,
   "id": "8070cf08",
   "metadata": {},
   "outputs": [],
   "source": [
    "# Class distribution\n",
    "ecommerce_class_dist = ecommerce_df['class'].value_counts(normalize=True)\n",
    "creditcard_class_dist = creditcard_df['Class'].value_counts(normalize=True)\n",
    "print(f'E-commerce Class Distribution:\\n{ecommerce_class_dist}')\n",
    "print(f'Credit Card Class Distribution:\\n{creditcard_class_dist}')\n",
    "\n",
    "# Strategy: Use SMOTE on training data to oversample the minority class (fraud),\n",
    "# as missing fraud cases has high business cost."
   ]
  },
  {
   "cell_type": "markdown",
   "id": "f30afc1c",
   "metadata": {},
   "source": [
    "## Next Steps\n",
    "\n",
    "- Task 2: Model building and evaluation.\n",
    "- Prepare Interim-1 report summarizing findings."
   ]
  }
 ],
 "metadata": {
  "kernelspec": {
   "display_name": "Python 3",
   "language": "python",
   "name": "python3"
  },
  "language_info": {
   "codemirror_mode": {
    "name": "ipython",
    "version": 3
   },
   "file_extension": ".py",
   "mimetype": "text/x-python",
   "name": "python",
   "nbconvert_exporter": "python",
   "pygments_lexer": "ipython3",
   "version": "3.11.0"
  }
 },
 "nbformat": 4,
 "nbformat_minor": 5
}
