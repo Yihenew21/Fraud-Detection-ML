{
 "cells": [
  {
   "cell_type": "markdown",
   "metadata": {},
   "source": [
    "# Task 3: Model Explainability\n",
    "\n",
    "This notebook uses SHAP (Shapley Additive exPlanations) to interpret the best-performing Random Forest model from Task 2 for fraud detection on e-commerce and credit card datasets at Adey Innovations Inc. It leverages modular functions from `src/` for preprocessing and SHAP analysis.\n",
    "\n",
    "## Objectives\n",
    "- Load preprocessed data from Task 2.\n",
    "- Train and evaluate models to obtain the best Random Forest models for SHAP analysis.\n",
    "- Apply SHAP to analyze feature importance using `shap_utils`.\n",
    "- Generate and interpret SHAP Summary and Force plots.\n",
    "\n",
    "## Datasets\n",
    "- `processed_ecommerce_with_features.csv`: Cleaned e-commerce data.\n",
    "- `processed_creditcard.csv`: Cleaned credit card data.\n",
    "\n",
    "## Setup\n",
    "- Run in the virtual environment with dependencies from `requirements.txt` (including `shap==0.45.1`, `pandas==2.2.2`, `numpy==1.26.4`, `scikit-learn==1.5.1`, `imbalanced-learn==0.12.3`)."
   ]
  },
  {
   "cell_type": "code",
   "execution_count": 1,
   "id": "b56323c6",
   "metadata": {},
   "outputs": [
    {
     "name": "stderr",
     "output_type": "stream",
     "text": [
      "c:\\Users\\hp\\Desktop\\projects\\10 Acadamy -KAIM5\\Fraud-Detection-ML\\.venv\\Lib\\site-packages\\tqdm\\auto.py:21: TqdmWarning: IProgress not found. Please update jupyter and ipywidgets. See https://ipywidgets.readthedocs.io/en/stable/user_install.html\n",
      "  from .autonotebook import tqdm as notebook_tqdm\n"
     ]
    },
    {
     "name": "stdout",
     "output_type": "stream",
     "text": [
      "E-commerce Dataset Shape: (151112, 16)\n",
      "Credit Card Dataset Shape: (283726, 31)\n"
     ]
    }
   ],
   "source": [
    "# Import necessary libraries and modules\n",
    "import pandas as pd\n",
    "import numpy as np\n",
    "import sys\n",
    "import os\n",
    "sys.path.append('..')\n",
    "from src.data_utils import load_data\n",
    "from src.feature_engineering import add_time_features, add_transaction_frequency, preprocess_data\n",
    "from src.model_utils import train_evaluate_model\n",
    "from src.shap_utils import compute_shap_values, plot_shap_summary, plot_shap_force\n",
    "\n",
    "# Load datasets\n",
    "ecommerce_df = load_data('../data/processed/processed_ecommerce_with_features.csv')\n",
    "creditcard_df = load_data('../data/processed/processed_creditcard.csv')\n",
    "\n",
    "print('E-commerce Dataset Shape:', ecommerce_df.shape)\n",
    "print('Credit Card Dataset Shape:', creditcard_df.shape)"
   ]
  },
  {
   "cell_type": "markdown",
   "id": "89815107",
   "metadata": {},
   "source": [
    "## Preprocess Datasets\n",
    "\n",
    "This cell preprocesses the e-commerce and credit card datasets. For e-commerce, it adds time-based features (time_since_signup, hour_of_day, day_of_week) and transaction frequency, then applies SMOTE, scaling, and encoding. The credit card dataset is processed with only numerical scaling and SMOTE, as it lacks categorical variables. It also retrieves encoded feature names for SHAP analysis."
   ]
  },
  {
   "cell_type": "code",
   "execution_count": 2,
   "id": "d3671d74",
   "metadata": {},
   "outputs": [
    {
     "name": "stdout",
     "output_type": "stream",
     "text": [
      "E-commerce - Resampled train set shape: (219136, 152)\n",
      "Credit Card - Resampled train set shape: (453204, 30)\n",
      "E-commerce feature names: ['source_Ads', 'source_Direct', 'source_SEO', 'browser_Chrome', 'browser_FireFox', 'browser_IE', 'browser_Opera', 'browser_Safari', 'country_Afghanistan', 'country_Albania', 'country_Algeria', 'country_Angola', 'country_Antigua and Barbuda', 'country_Argentina', 'country_Armenia', 'country_Australia', 'country_Austria', 'country_Azerbaijan', 'country_Bahamas', 'country_Bahrain', 'country_Bangladesh', 'country_Barbados', 'country_Belarus', 'country_Belgium', 'country_Benin', 'country_Bhutan', 'country_Bosnia and Herzegowina', 'country_Botswana', 'country_Brunei Darussalam', 'country_Bulgaria', 'country_Burkina Faso', 'country_Cambodia', 'country_Cameroon', 'country_Canada', 'country_Cape Verde', 'country_Cayman Islands', 'country_China', 'country_Congo The Democratic Republic of The', \"country_Cote D'ivoire\", 'country_Croatia (LOCAL Name: Hrvatska)', 'country_Cyprus', 'country_Czech Republic', 'country_Denmark', 'country_Egypt', 'country_Estonia', 'country_European Union', 'country_Faroe Islands', 'country_Fiji', 'country_Finland', 'country_France', 'country_Gabon', 'country_Georgia', 'country_Germany', 'country_Ghana', 'country_Greece', 'country_Guadeloupe', 'country_Guam', 'country_Hong Kong', 'country_Hungary', 'country_Iceland', 'country_India', 'country_Indonesia', 'country_Iran (ISLAMIC Republic Of)', 'country_Iraq', 'country_Ireland', 'country_Israel', 'country_Italy', 'country_Jamaica', 'country_Japan', 'country_Jordan', 'country_Kazakhstan', 'country_Kenya', 'country_Korea Republic of', 'country_Kuwait', 'country_Kyrgyzstan', \"country_Lao People's Democratic Republic\", 'country_Latvia', 'country_Lebanon', 'country_Libyan Arab Jamahiriya', 'country_Liechtenstein', 'country_Lithuania', 'country_Luxembourg', 'country_Macau', 'country_Macedonia', 'country_Malawi', 'country_Malaysia', 'country_Maldives', 'country_Malta', 'country_Mauritius', 'country_Moldova Republic of', 'country_Monaco', 'country_Mongolia', 'country_Montenegro', 'country_Morocco', 'country_Mozambique', 'country_Myanmar', 'country_Namibia', 'country_Nepal', 'country_Netherlands', 'country_New Caledonia', 'country_New Zealand', 'country_Niger', 'country_Nigeria', 'country_Norway', 'country_Oman', 'country_Pakistan', 'country_Palestinian Territory Occupied', 'country_Papua New Guinea', 'country_Philippines', 'country_Poland', 'country_Portugal', 'country_Puerto Rico', 'country_Qatar', 'country_Reunion', 'country_Romania', 'country_Russian Federation', 'country_Rwanda', 'country_Saint Martin', 'country_Saudi Arabia', 'country_Senegal', 'country_Serbia', 'country_Seychelles', 'country_Singapore', 'country_Slovakia (SLOVAK Republic)', 'country_Slovenia', 'country_South Africa', 'country_Spain', 'country_Sri Lanka', 'country_Sudan', 'country_Sweden', 'country_Switzerland', 'country_Syrian Arab Republic', 'country_Taiwan; Republic of China (ROC)', 'country_Tanzania United Republic of', 'country_Thailand', 'country_Tunisia', 'country_Turkey', 'country_Turkmenistan', 'country_Uganda', 'country_Ukraine', 'country_United Arab Emirates', 'country_United Kingdom', 'country_United States', 'country_Unknown', 'country_Uzbekistan', 'country_Viet Nam', 'country_Zambia', 'purchase_value', 'time_since_signup', 'hour_of_day', 'day_of_week', 'trans_freq']\n",
      "Credit Card feature names: ['Time', 'Amount', 'V1', 'V2', 'V3', 'V4', 'V5', 'V6', 'V7', 'V8', 'V9', 'V10', 'V11', 'V12', 'V13', 'V14', 'V15', 'V16', 'V17', 'V18', 'V19', 'V20', 'V21', 'V22', 'V23', 'V24', 'V25', 'V26', 'V27', 'V28']\n"
     ]
    }
   ],
   "source": [
    "# Preprocess datasets (reuse Task 2 preprocessing with additional features)\n",
    "ecomm_cat_cols = ['source', 'browser', 'country']\n",
    "ecomm_num_cols = ['purchase_value', 'time_since_signup', 'hour_of_day', 'day_of_week', 'trans_freq']\n",
    "ecommerce_df = add_time_features(ecommerce_df)\n",
    "ecommerce_df = add_transaction_frequency(ecommerce_df, 'user_id')\n",
    "X_train_ecomm, X_test_ecomm, y_train_ecomm, y_test_ecomm, ecomm_encoder, ecomm_feature_names = preprocess_data(\n",
    "    ecommerce_df, 'class', ecomm_cat_cols, ecomm_num_cols\n",
    ")\n",
    "\n",
    "cc_num_cols = ['Time', 'Amount', 'V1', 'V2', 'V3', 'V4', 'V5', 'V6', 'V7', 'V8', 'V9', 'V10', \n",
    "               'V11', 'V12', 'V13', 'V14', 'V15', 'V16', 'V17', 'V18', 'V19', 'V20', 'V21', 'V22', \n",
    "               'V23', 'V24', 'V25', 'V26', 'V27', 'V28']\n",
    "X_train_cc, X_test_cc, y_train_cc, y_test_cc, cc_encoder, cc_feature_names = preprocess_data(\n",
    "    creditcard_df, 'Class', [], cc_num_cols\n",
    ")\n",
    "\n",
    "print('E-commerce - Resampled train set shape:', X_train_ecomm.shape)\n",
    "print('Credit Card - Resampled train set shape:', X_train_cc.shape)\n",
    "print('E-commerce feature names:', ecomm_feature_names)\n",
    "print('Credit Card feature names:', cc_feature_names)"
   ]
  },
  {
   "cell_type": "markdown",
   "id": "ba1601cd",
   "metadata": {},
   "source": [
    "## Train and Evaluate Models\n",
    "\n",
    "This cell trains and evaluates Logistic Regression and Random Forest models to obtain the best Random Forest models for SHAP analysis. It reuses the training logic from Task 2, focusing only on retrieving the best models."
   ]
  },
  {
   "cell_type": "code",
   "execution_count": 3,
   "id": "3c714d76",
   "metadata": {},
   "outputs": [
    {
     "name": "stdout",
     "output_type": "stream",
     "text": [
      "Tuned E-commerce Logistic Regression Metrics: {'accuracy': 0.6505641398934586, 'precision': 0.16782675947409126, 'recall': 0.6901060070671378, 'f1': 0.2699937789451856, 'roc_auc': 0.668292517277956}\n",
      "Best C: 10\n",
      "Tuned E-commerce Random Forest Metrics: {'accuracy': 0.954041623928796, 'precision': 0.9657401422107305, 'recall': 0.5279151943462898, 'f1': 0.682659355723098, 'roc_auc': 0.762990196742378}\n",
      "Best Parameters: {'max_depth': 20, 'n_estimators': 50}\n",
      "E-commerce Logistic Regression CV F1 Scores: [0.68774897 0.68757491 0.68464666 0.68906964 0.68306461]\n",
      "Mean CV F1 Score: 0.686420956432628\n",
      "E-commerce Random Forest CV F1 Scores: [0.76383296 0.81584554 0.81688014 0.79776512 0.81580934]\n",
      "Mean CV F1 Score: 0.8020266191487974\n",
      "E-commerce Logistic Regression Confusion Matrix:\\n [[17709  9684]\n",
      " [  877  1953]]\n",
      "E-commerce Random Forest Confusion Matrix:\\n [[27340    53]\n",
      " [ 1336  1494]]\n",
      "E-commerce training time: 456.16 seconds\n",
      "Tuned Credit Card Logistic Regression Metrics: {'accuracy': 0.9736897754907835, 'precision': 0.053069053708439895, 'recall': 0.8736842105263158, 'f1': 0.10006027727546715, 'roc_auc': 0.9237708443851504}\n",
      "Best C: 10\n",
      "Tuned Credit Card Random Forest Metrics: {'accuracy': 0.9993479716632009, 'precision': 0.8222222222222222, 'recall': 0.7789473684210526, 'f1': 0.8, 'roc_auc': 0.8893324686980023}\n",
      "Best Parameters: {'max_depth': 20, 'n_estimators': 50}\n",
      "Credit Card Logistic Regression CV F1 Scores: [0.9460051  0.94660898 0.94631535 0.9460388  0.94560205]\n",
      "Mean CV F1 Score: 0.946114056063941\n",
      "Credit Card Random Forest CV F1 Scores: [0.99981248 0.99986763 0.99982351 0.99974632 0.99984557]\n",
      "Mean CV F1 Score: 0.9998191007440458\n",
      "Credit Card Logistic Regression Confusion Matrix:\\n [[55170  1481]\n",
      " [   12    83]]\n",
      "Credit Card Random Forest Confusion Matrix:\\n [[56635    16]\n",
      " [   21    74]]\n",
      "Credit Card training time: 1792.94 seconds\n"
     ]
    }
   ],
   "source": [
    "# Train and evaluate models (to get best_rf models)\n",
    "import time\n",
    "start_time = time.time()\n",
    "_, best_rf_ecomm, y_test_ecomm, _, _ = train_evaluate_model(\n",
    "    X_train_ecomm, X_test_ecomm, y_train_ecomm, y_test_ecomm, 'E-commerce'\n",
    ")\n",
    "print(f'E-commerce training time: {time.time() - start_time:.2f} seconds')\n",
    "start_time = time.time()\n",
    "_, best_rf_cc, y_test_cc, _, _ = train_evaluate_model(\n",
    "    X_train_cc, X_test_cc, y_train_cc, y_test_cc, 'Credit Card'\n",
    ")\n",
    "print(f'Credit Card training time: {time.time() - start_time:.2f} seconds')"
   ]
  },
  {
   "cell_type": "markdown",
   "metadata": {},
   "source": [
    "## SHAP Analysis\n",
    "\n",
    "This cell performs SHAP analysis on the trained Random Forest models for both datasets. It computes SHAP values using a subset of test data and generates Summary and Force plots to visualize global and local feature importance, saved to the `plots/` directory, using the encoded feature names."
   ]
  },
  {
   "cell_type": "code",
   "execution_count": 5,
   "id": "bd3e45fa",
   "metadata": {},
   "outputs": [
    {
     "name": "stdout",
     "output_type": "stream",
     "text": [
      "SHAP values computed for E-commerce with 1000 samples\n",
      "SHAP values shape for E-commerce: (1000, 152)\n",
      "X_test_subset shape for E-commerce: (1000, 152)\n",
      "SHAP values computed for Credit Card with 1000 samples\n",
      "SHAP values shape for Credit Card: (1000, 30)\n",
      "X_test_subset shape for Credit Card: (1000, 30)\n",
      "Force plot saved for E-commerce\n",
      "Force plot saved for Credit Card\n"
     ]
    }
   ],
   "source": [
    "# SHAP Analysis for Random Forest (best model)\n",
    "shap_values_ecomm, X_test_ecomm_subset, explainer_ecomm = compute_shap_values(best_rf_ecomm, X_test_ecomm, 'E-commerce')\n",
    "shap_values_cc, X_test_cc_subset, explainer_cc = compute_shap_values(best_rf_cc, X_test_cc, 'Credit Card')\n",
    "\n",
    "# Generate SHAP plots using the subset data and encoded feature names\n",
    "plot_shap_summary(shap_values_ecomm, X_test_ecomm_subset, 'E-commerce', feature_names=ecomm_feature_names)\n",
    "plot_shap_summary(shap_values_cc, X_test_cc_subset, 'Credit Card', feature_names=cc_feature_names)\n",
    "plot_shap_force(shap_values_ecomm, X_test_ecomm_subset, 'E-commerce', explainer_ecomm)\n",
    "plot_shap_force(shap_values_cc, X_test_cc_subset, 'Credit Card', explainer_cc)"
   ]
  },
  {
   "cell_type": "markdown",
   "metadata": {},
   "source": [
    "## SHAP Interpretation\n",
    "\n",
    "This cell provides an interpretation of the SHAP plots generated above. The Summary Plot shows global feature importance, while the Force Plot illustrates local contributions for a single sample. These insights help understand the key drivers of fraud in the datasets.\n",
    "\n",
    "- **E-commerce Dataset**: The SHAP Summary Plot indicates that `purchase_value` and `time_since_signup` are key fraud drivers, with higher purchase values and newer accounts increasing fraud probability. The Force Plot for a sample shows `time_since_signup` as a significant contributor, pushing the prediction toward fraud for a new account.\n",
    "- **Credit Card Dataset**: The SHAP Summary Plot highlights `V14`, `V17`, and `Amount` as top contributors, with large transaction amounts and specific `V` features driving fraud likelihood. The Force Plot for a sample illustrates how `V14` and `Amount` increase the fraud probability.\n",
    "- **Insights**: SHAP confirms the Random Forest captures complex interactions, with global importance aligning with domain knowledge (e.g., transaction amount, account age), enhancing model interpretability."
   ]
  }
 ],
 "metadata": {
  "kernelspec": {
   "display_name": ".venv",
   "language": "python",
   "name": "python3"
  },
  "language_info": {
   "codemirror_mode": {
    "name": "ipython",
    "version": 3
   },
   "file_extension": ".py",
   "mimetype": "text/x-python",
   "name": "python",
   "nbconvert_exporter": "python",
   "pygments_lexer": "ipython3",
   "version": "3.11.9"
  },
  "nbformat": 4,
  "nbformat_minor": 5
 },
 "nbformat": 4,
 "nbformat_minor": 5
}
